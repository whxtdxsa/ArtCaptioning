{
 "cells": [
  {
   "cell_type": "code",
   "execution_count": 1,
   "metadata": {},
   "outputs": [],
   "source": [
    "import os\n",
    "# 이미지 다운\n",
    "if not os.path.exists('train2017'):\n",
    "    # 파일이 존재하지 않을 때 실행할 코드\n",
    "    !wget http://images.cocodataset.org/zips/train2017.zip\n",
    "    !unzip train2017.zip\n",
    "    \n",
    "# 캡션 다운\n",
    "if not os.path.exists('annotations'):\n",
    "    # 파일이 존재하지 않을 때 실행할 코드\n",
    "    !wget http://images.cocodataset.org/annotations/annotations_trainval2017.zip\n",
    "    !unzip annotations_trainval2017.zip"
   ]
  },
  {
   "cell_type": "code",
   "execution_count": 2,
   "metadata": {},
   "outputs": [
    {
     "name": "stdout",
     "output_type": "stream",
     "text": [
      "[nltk_data] Downloading package punkt to /home/whitdisa04/nltk_data...\n",
      "[nltk_data]   Package punkt is already up-to-date!\n",
      "dataPrepare.py:33: DeprecationWarning: LANCZOS is deprecated and will be removed in Pillow 10 (2023-07-01). Use Resampling.LANCZOS instead.\n",
      "  resized_img = img.resize(size, Image.LANCZOS)\n",
      "dataPrepare.py:33: DeprecationWarning: LANCZOS is deprecated and will be removed in Pillow 10 (2023-07-01). Use Resampling.LANCZOS instead.\n",
      "  resized_img = img.resize(size, Image.LANCZOS)\n",
      "dataPrepare.py:33: DeprecationWarning: LANCZOS is deprecated and will be removed in Pillow 10 (2023-07-01). Use Resampling.LANCZOS instead.\n",
      "  resized_img = img.resize(size, Image.LANCZOS)\n",
      "dataPrepare.py:33: DeprecationWarning: LANCZOS is deprecated and will be removed in Pillow 10 (2023-07-01). Use Resampling.LANCZOS instead.\n",
      "  resized_img = img.resize(size, Image.LANCZOS)\n",
      "dataPrepare.py:33: DeprecationWarning: LANCZOS is deprecated and will be removed in Pillow 10 (2023-07-01). Use Resampling.LANCZOS instead.\n",
      "  resized_img = img.resize(size, Image.LANCZOS)\n",
      "dataPrepare.py:33: DeprecationWarning: LANCZOS is deprecated and will be removed in Pillow 10 (2023-07-01). Use Resampling.LANCZOS instead.\n",
      "  resized_img = img.resize(size, Image.LANCZOS)\n",
      "dataPrepare.py:33: DeprecationWarning: LANCZOS is deprecated and will be removed in Pillow 10 (2023-07-01). Use Resampling.LANCZOS instead.\n",
      "  resized_img = img.resize(size, Image.LANCZOS)\n",
      "dataPrepare.py:33: DeprecationWarning: LANCZOS is deprecated and will be removed in Pillow 10 (2023-07-01). Use Resampling.LANCZOS instead.\n",
      "  resized_img = img.resize(size, Image.LANCZOS)\n",
      "dataPrepare.py:33: DeprecationWarning: LANCZOS is deprecated and will be removed in Pillow 10 (2023-07-01). Use Resampling.LANCZOS instead.\n",
      "  resized_img = img.resize(size, Image.LANCZOS)\n",
      "dataPrepare.py:33: DeprecationWarning: LANCZOS is deprecated and will be removed in Pillow 10 (2023-07-01). Use Resampling.LANCZOS instead.\n",
      "  resized_img = img.resize(size, Image.LANCZOS)\n",
      "dataPrepare.py:33: DeprecationWarning: LANCZOS is deprecated and will be removed in Pillow 10 (2023-07-01). Use Resampling.LANCZOS instead.\n",
      "  resized_img = img.resize(size, Image.LANCZOS)\n",
      "dataPrepare.py:33: DeprecationWarning: LANCZOS is deprecated and will be removed in Pillow 10 (2023-07-01). Use Resampling.LANCZOS instead.\n",
      "  resized_img = img.resize(size, Image.LANCZOS)\n"
     ]
    }
   ],
   "source": [
    "# 데이터 분할\n",
    "# dataPrepare.py에서 데이터 비율 및 vocab을 정의할 수 있다.\n",
    "if not os.path.exists('dataset'):\n",
    "    !python3 dataPrepare.py"
   ]
  },
  {
   "cell_type": "code",
   "execution_count": 3,
   "metadata": {},
   "outputs": [],
   "source": [
    "import os\n",
    "import pickle\n",
    "import torch\n",
    "from torchvision import transforms\n",
    "from dataLoader import get_loader\n",
    "from resnet_lstm import *"
   ]
  },
  {
   "cell_type": "code",
   "execution_count": 4,
   "metadata": {},
   "outputs": [],
   "source": [
    "img_dir = [\"./dataset/train/images\", \"./dataset/val/images\", \"./dataset/test/images\"] \n",
    "\n",
    "train_img_path = img_dir[0] # resized image for training\n",
    "val_img_path = img_dir[1] # resized image for validation\n",
    "test_img_path = img_dir[2] # resized image for test\n",
    "\n",
    "coco_caption_path = \"./annotations/captions_train2017.json\"\n",
    "train_caption_path = \"./dataset/train/captions.txt\" # resized image for training\n",
    "val_caption_path = \"./dataset/val/captions.txt\" # resized image for validation\n",
    "test_caption_path = \"./dataset/test/captions.txt\" # resized image for test\n",
    "\n",
    "batch_size = 256\n",
    "learning_rate = 0.001\n",
    "num_workers = 6\n",
    "num_epochs = 10\n",
    "\n",
    "# Increase Model Capacity\n",
    "embed_size = 256\n",
    "hidden_size = 1024\n",
    "num_layers = 1  # More layers can capture complex patterns\n",
    "\n",
    "vocab_path = \"./dataset/vocab.pkl\"  # Path to the preprocessed vocabulary file\n",
    "# Load vocabulary file\n",
    "with open(vocab_path, 'rb') as f:\n",
    "    vocab = pickle.load(f)"
   ]
  },
  {
   "cell_type": "code",
   "execution_count": 5,
   "metadata": {},
   "outputs": [],
   "source": [
    "model_path = \"models/\"  # Path where the trained model will be saved\n",
    "# Create model directory\n",
    "if not os.path.exists(model_path):\n",
    "    os.makedirs(model_path)\n",
    "\n",
    "# Use the same preprocessing and normalization parameters as were applied in the pre-trained Inception model.\n",
    "train_transform = transforms.Compose([\n",
    "    transforms.Resize(224),\n",
    "    transforms.ToTensor(),\n",
    "    transforms.Normalize((0.485, 0.456, 0.406), (0.229, 0.224, 0.225))])\n",
    "\n",
    "val_transform = transforms.Compose([\n",
    "    transforms.Resize(224),  # Adjust to the correct size for Inception\n",
    "    transforms.ToTensor(),\n",
    "    transforms.Normalize((0.485, 0.456, 0.406), (0.229, 0.224, 0.225))])\n",
    "\n",
    "test_transform = transforms.Compose([\n",
    "    transforms.Resize(224),  # Adjust to the correct size for Inception\n",
    "    transforms.ToTensor()\n",
    "])\n",
    "\n",
    "# Declare data loaders\n",
    "train_data_loader = get_loader(train_img_path, train_caption_path, vocab, train_transform, batch_size, shuffle=True, num_workers=num_workers, testing=False, pin_memory=True)\n",
    "val_data_loader = get_loader(val_img_path, val_caption_path, vocab, val_transform, batch_size, shuffle=False, num_workers=num_workers, testing=False, pin_memory=True)\n",
    "test_data_loader = get_loader(test_img_path, test_caption_path, vocab, test_transform, batch_size, shuffle=False, num_workers=num_workers, testing=True, pin_memory=True)"
   ]
  },
  {
   "cell_type": "code",
   "execution_count": 6,
   "metadata": {},
   "outputs": [
    {
     "name": "stderr",
     "output_type": "stream",
     "text": [
      "/home/whitdisa04/.local/lib/python3.8/site-packages/torchvision/models/_utils.py:208: UserWarning: The parameter 'pretrained' is deprecated since 0.13 and may be removed in the future, please use 'weights' instead.\n",
      "  warnings.warn(\n",
      "/home/whitdisa04/.local/lib/python3.8/site-packages/torchvision/models/_utils.py:223: UserWarning: Arguments other than a weight enum or `None` for 'weights' are deprecated since 0.13 and may be removed in the future. The current behavior is equivalent to passing `weights=ResNet101_Weights.IMAGENET1K_V1`. You can also use `weights=ResNet101_Weights.DEFAULT` to get the most up-to-date weights.\n",
      "  warnings.warn(msg)\n"
     ]
    }
   ],
   "source": [
    "device = torch.device('cuda' if torch.cuda.is_available() else 'cpu')\n",
    "encoder = EncoderCNN(embed_size).to(device)\n",
    "decoder = DecoderRNN(embed_size, hidden_size, len(vocab), num_layers).to(device)\n",
    "\n",
    "# Criterion with ignore_index to skip pad tokens\n",
    "criterion = nn.CrossEntropyLoss(ignore_index=vocab('<pad>'))\n",
    "params = list(decoder.parameters()) + list(encoder.embed.parameters()) + list(encoder.batch_norm.parameters())\n",
    "optimizer = torch.optim.Adam(params, lr=learning_rate)"
   ]
  },
  {
   "cell_type": "code",
   "execution_count": 7,
   "metadata": {},
   "outputs": [],
   "source": [
    "# 평가 함수 정의\n",
    "def evaluate(encoder, decoder, data_loader, criterion, device):\n",
    "    encoder.eval()\n",
    "    decoder.eval()\n",
    "    total_loss = 0\n",
    "    with torch.no_grad():\n",
    "        for images, captions, lengths in data_loader:\n",
    "            images, captions = images.to(device), captions.to(device)\n",
    "            features = encoder(images)\n",
    "            outputs = decoder(features, captions, lengths)\n",
    "            targets = pack_padded_sequence(captions, lengths, batch_first=True)[0]\n",
    "            loss = criterion(outputs, targets)\n",
    "            total_loss += loss.item()\n",
    "    return round(total_loss / len(data_loader), 4)\n",
    "\n",
    "    # 추가: BLEU 점수 계산을 위한 함수\n",
    "\"\"\"\n",
    "각 n-gram 수준(1-gram, 2-gram, 3-gram, 4-gram)에서 생성된 캡션과 참조 캡션 간의 일치도를 계산합니다.\n",
    "이러한 각각의 n-gram 일치도에 대해 동일한 가중치(기본적으로 각각 0.25)를 부여하여, 이들의 평균을 계산합니다.\n",
    "이 평균 점수가 최종 BLEU 점수가 됩니다.\n",
    "\"\"\"\n",
    "import torchtext.data.metrics as metrics\n",
    "\n",
    "def calculate_bleu(data_loader, encoder, decoder, vocab, device):\n",
    "    predictions = []\n",
    "    references = []\n",
    "    with torch.no_grad():\n",
    "        for images, captions, _ in data_loader:\n",
    "            images = images.to(device)\n",
    "            features = encoder(images)\n",
    "            sampled_ids = decoder.sample(features)\n",
    "            sampled_ids = sampled_ids.cpu().numpy()\n",
    "\n",
    "            # Convert word_ids to words\n",
    "            for i in range(len(images)):\n",
    "                sampled_caption = []\n",
    "                for word_id in sampled_ids[i]:\n",
    "                    word = vocab.idx2word[word_id]\n",
    "                    sampled_caption.append(word)\n",
    "                    if word == '<end>':\n",
    "                        break\n",
    "                predictions.append(sampled_caption[1:-1])\n",
    "\n",
    "                # Original sentence\n",
    "                orig_caption = []\n",
    "                for word_id in captions[i].numpy():\n",
    "                    word = vocab.idx2word[word_id]\n",
    "                    orig_caption.append(word)\n",
    "                    if word == '<end>':\n",
    "                        break\n",
    "                references.append([orig_caption[1:-1]])\n",
    "\n",
    "    bleu1_score = metrics.bleu_score(predictions, references, max_n=4, weights=[1, 0, 0, 0])\n",
    "    bleu2_score = metrics.bleu_score(predictions, references, max_n=4, weights=[0, 1, 0, 0])\n",
    "    bleu3_score = metrics.bleu_score(predictions, references, max_n=4, weights=[0, 0, 1, 0])\n",
    "    bleu4_score = metrics.bleu_score(predictions, references, max_n=4, weights=[0, 0, 0, 1])\n",
    "\n",
    "    # 변경: BLEU 점수 계산 결과를 다른 변수에 할당\n",
    "    return bleu1_score, bleu2_score, bleu3_score, bleu4_score\n"
   ]
  },
  {
   "cell_type": "code",
   "execution_count": 8,
   "metadata": {},
   "outputs": [
    {
     "name": "stderr",
     "output_type": "stream",
     "text": [
      "Epoch 1/10: 100%|██████████| 586/586 [04:03<00:00,  2.41it/s, loss=2.54]\n"
     ]
    },
    {
     "name": "stdout",
     "output_type": "stream",
     "text": [
      "Epoch 1, Training Loss: 3.0354, Validation Loss: 2.5014\n"
     ]
    },
    {
     "name": "stderr",
     "output_type": "stream",
     "text": [
      "Epoch 2/10: 100%|██████████| 586/586 [04:01<00:00,  2.42it/s, loss=2.21]\n"
     ]
    },
    {
     "name": "stdout",
     "output_type": "stream",
     "text": [
      "Epoch 2, Training Loss: 2.3071, Validation Loss: 2.3019\n"
     ]
    },
    {
     "name": "stderr",
     "output_type": "stream",
     "text": [
      "Epoch 3/10: 100%|██████████| 586/586 [04:01<00:00,  2.42it/s, loss=2.03]\n"
     ]
    },
    {
     "name": "stdout",
     "output_type": "stream",
     "text": [
      "Epoch 3, Training Loss: 2.1016, Validation Loss: 2.2351\n"
     ]
    },
    {
     "name": "stderr",
     "output_type": "stream",
     "text": [
      "Epoch 4/10: 100%|██████████| 586/586 [04:04<00:00,  2.40it/s, loss=1.9] \n"
     ]
    },
    {
     "name": "stdout",
     "output_type": "stream",
     "text": [
      "Epoch 4, Training Loss: 1.8886, Validation Loss: 2.1903\n"
     ]
    },
    {
     "name": "stderr",
     "output_type": "stream",
     "text": [
      "Epoch 5/10: 100%|██████████| 586/586 [04:04<00:00,  2.39it/s, loss=1.8] \n"
     ]
    },
    {
     "name": "stdout",
     "output_type": "stream",
     "text": [
      "Epoch 5, Training Loss: 1.8473, Validation Loss: 2.1869\n"
     ]
    },
    {
     "name": "stderr",
     "output_type": "stream",
     "text": [
      "Epoch 6/10: 100%|██████████| 586/586 [04:05<00:00,  2.38it/s, loss=1.81]\n"
     ]
    },
    {
     "name": "stdout",
     "output_type": "stream",
     "text": [
      "Epoch 6, Training Loss: 1.8203, Validation Loss: 2.1844\n"
     ]
    },
    {
     "name": "stderr",
     "output_type": "stream",
     "text": [
      "Epoch 7/10: 100%|██████████| 586/586 [04:05<00:00,  2.39it/s, loss=1.74]\n"
     ]
    },
    {
     "name": "stdout",
     "output_type": "stream",
     "text": [
      "Epoch 7, Training Loss: 1.7876, Validation Loss: 2.1833\n"
     ]
    },
    {
     "name": "stderr",
     "output_type": "stream",
     "text": [
      "Epoch 8/10: 100%|██████████| 586/586 [04:04<00:00,  2.39it/s, loss=1.84]\n"
     ]
    },
    {
     "name": "stdout",
     "output_type": "stream",
     "text": [
      "Epoch 8, Training Loss: 1.784, Validation Loss: 2.1831\n"
     ]
    },
    {
     "name": "stderr",
     "output_type": "stream",
     "text": [
      "Epoch 9/10: 100%|██████████| 586/586 [04:05<00:00,  2.39it/s, loss=1.81]\n"
     ]
    },
    {
     "name": "stdout",
     "output_type": "stream",
     "text": [
      "Epoch 9, Training Loss: 1.7812, Validation Loss: 2.1832\n"
     ]
    },
    {
     "name": "stderr",
     "output_type": "stream",
     "text": [
      "Epoch 10/10: 100%|██████████| 586/586 [04:05<00:00,  2.39it/s, loss=1.78]\n"
     ]
    },
    {
     "name": "stdout",
     "output_type": "stream",
     "text": [
      "Epoch 10, Training Loss: 1.7774, Validation Loss: 2.1834\n"
     ]
    }
   ],
   "source": [
    "from tqdm import tqdm\n",
    "\n",
    "# Gradient clipping value\n",
    "clip_value = 5\n",
    "\n",
    "# Learning rate scheduler\n",
    "scheduler = torch.optim.lr_scheduler.StepLR(optimizer, step_size=3, gamma=0.1)\n",
    "\n",
    "# 훈련 손실 누적\n",
    "train_losses = []\n",
    "val_losses = []\n",
    "# Training loop\n",
    "for epoch in range(num_epochs):\n",
    "    encoder.train()\n",
    "    decoder.train()\n",
    "\n",
    "    train_loss = 0  # 에포크 시작 전 훈련 손실 초기화\n",
    "    # 여기에 tqdm을 추가합니다. 이는 train_data_loader의 각 배치에 대한 진행 상태를 표시합니다.\n",
    "    with tqdm(enumerate(train_data_loader), total=len(train_data_loader), desc=f'Epoch {epoch + 1}/{num_epochs}') as t:\n",
    "        for i, (images, captions, lengths) in t:\n",
    "            # Move batch of images and captions to GPU if available\n",
    "            images, captions = images.to(device), captions.to(device)\n",
    "\n",
    "            # Forward pass through encoder and decoder\n",
    "            features = encoder(images)\n",
    "            outputs = decoder(features, captions, lengths)\n",
    "            targets = pack_padded_sequence(captions, lengths, batch_first=True)[0]\n",
    "\n",
    "            # Calculate the batch loss based on the criterion\n",
    "            loss = criterion(outputs, targets)\n",
    "            train_loss += loss.item()  # 각 배치의 손실 누적\n",
    "            decoder.zero_grad()\n",
    "            encoder.zero_grad()\n",
    "\n",
    "            # Backward pass (compute gradients)\n",
    "            loss.backward()\n",
    "\n",
    "            # Clip gradients\n",
    "            clip_params = list(encoder.parameters()) + list(decoder.parameters())\n",
    "            torch.nn.utils.clip_grad_norm_(clip_params, clip_value)\n",
    "            # Update the weights\n",
    "            optimizer.step()\n",
    "\n",
    "            # Update tqdm's description with the current loss\n",
    "            t.set_postfix(loss=loss.item())\n",
    "\n",
    "            # Log training statistics and save model checkpoints\n",
    "        if  (epoch+1) % 5 == 0:\n",
    "            torch.save(decoder.state_dict(), os.path.join(model_path, 'decoder-{}-{}.ckpt'.format(epoch+1, 0)))\n",
    "            torch.save(encoder.state_dict(), os.path.join(model_path, 'encoder-{}-{}.ckpt'.format(epoch+1, 0)))\n",
    "    # 에포크가 끝날 때 평균 훈련 손실 계산 및 기록\n",
    "    train_loss /= len(train_data_loader)\n",
    "    train_loss = round(train_loss, 4)\n",
    "    train_losses.append(train_loss)\n",
    "\n",
    "    # 검증 손실 계산 및 기록\n",
    "    val_loss = evaluate(encoder, decoder, val_data_loader, criterion, device)\n",
    "    val_losses.append(val_loss)\n",
    "\n",
    "    print(f'Epoch {epoch + 1}, Training Loss: {train_loss}, Validation Loss: {val_loss}')\n",
    "\n",
    "    # Learning rate scheduler update는 에포크 끝에서 한 번만 수행\n",
    "    scheduler.step()\n"
   ]
  },
  {
   "cell_type": "code",
   "execution_count": 9,
   "metadata": {},
   "outputs": [
    {
     "name": "stdout",
     "output_type": "stream",
     "text": [
      "BLEU 1 Score: 0.3548\n",
      "BLEU 2 Score: 0.0919\n",
      "BLEU 3 Score: 0.0323\n",
      "BLEU 4 Score: 0.0138\n"
     ]
    }
   ],
   "source": [
    "# 모델의 일반화 능력 평가\n",
    "bleu_score = calculate_bleu(test_data_loader, encoder, decoder, vocab, device)\n",
    "for idx, bleu in enumerate(bleu_score):\n",
    "    print(f'BLEU {idx + 1} Score: {round(bleu, 4)}')"
   ]
  },
  {
   "cell_type": "code",
   "execution_count": 10,
   "metadata": {},
   "outputs": [
    {
     "data": {
      "image/png": "[encoded data removed]",
      "text/plain": [
       "<Figure size 432x288 with 1 Axes>"
      ]
     },
     "metadata": {
      "needs_background": "light"
     },
     "output_type": "display_data"
    }
   ],
   "source": [
    "# 추가: 훈련 및 검증 손실 그래프 그리기\n",
    "import matplotlib.pyplot as plt\n",
    "\n",
    "plt.plot(train_losses, label='Training Loss')\n",
    "plt.plot(val_losses, label='Validation Loss')\n",
    "plt.xlabel('Epoch')\n",
    "plt.ylabel('Loss')\n",
    "plt.title('Training and Validation Loss')\n",
    "plt.legend()\n",
    "plt.show()"
   ]
  }
 ],
 "metadata": {
  "kernelspec": {
   "display_name": "Python 3",
   "language": "python",
   "name": "python3"
  },
  "language_info": {
   "codemirror_mode": {
    "name": "ipython",
    "version": 3
   },
   "file_extension": ".py",
   "mimetype": "text/x-python",
   "name": "python",
   "nbconvert_exporter": "python",
   "pygments_lexer": "ipython3",
   "version": "3.8.10"
  }
 },
 "nbformat": 4,
 "nbformat_minor": 2
}
